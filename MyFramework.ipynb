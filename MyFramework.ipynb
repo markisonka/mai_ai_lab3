{
  "nbformat": 4,
  "nbformat_minor": 0,
  "metadata": {
    "language_info": {
      "codemirror_mode": {
        "name": "ipython",
        "version": 3
      },
      "file_extension": ".py",
      "mimetype": "text/x-python",
      "name": "python",
      "nbconvert_exporter": "python",
      "pygments_lexer": "ipython3",
      "version": "3.7.4-final"
    },
    "orig_nbformat": 2,
    "kernelspec": {
      "name": "python3",
      "display_name": "Python 3.7.4 64-bit (conda)",
      "metadata": {
        "interpreter": {
          "hash": "86193a1ab0ba47eac1c69c1756090baa3b420b3eea7d4aafab8b85f8b312f0c5"
        }
      }
    },
    "colab": {
      "name": "Solution_MyFramework.ipynb",
      "provenance": [],
      "collapsed_sections": []
    },
    "accelerator": "GPU"
  },
  "cells": [
    {
      "cell_type": "markdown",
      "metadata": {
        "id": "xYlMkMyS6Csq"
      },
      "source": [
        "## Лабораторная работа по курсу \"Искусственный интеллект\"\n",
        "## Многослойный персептрон\n",
        "\n",
        "\n",
        "\n",
        "Для начала, скачаем датасет MNIST. Используйте `wget` или `curl`, либо скачайте вручную [по ссылке](https://raw.githubusercontent.com/shwars/NeuroWorkshop/master/Data/MNIST/mnist.pkl.gz)."
      ]
    },
    {
      "cell_type": "code",
      "metadata": {
        "tags": [],
        "colab": {
          "base_uri": "https://localhost:8080/"
        },
        "id": "DZQ5icTR6Csv",
        "outputId": "416d5b38-a4d7-4cbf-87be-3b9f716ec817"
      },
      "source": [
        "#!wget https://raw.githubusercontent.com/shwars/NeuroWorkshop/master/Data/MNIST/mnist.pkl.gz\n",
        "!curl -o mnist.pkl.gz https://raw.githubusercontent.com/shwars/NeuroWorkshop/master/Data/MNIST/mnist.pkl.gz\n",
        "!gzip -d mnist.pkl.gz"
      ],
      "execution_count": 11,
      "outputs": [
        {
          "output_type": "stream",
          "text": [
            "  % Total    % Received % Xferd  Average Speed   Time    Time     Time  Current\n",
            "                                 Dload  Upload   Total   Spent    Left  Speed\n",
            "100  9.9M  100  9.9M    0     0  27.5M      0 --:--:-- --:--:-- --:--:-- 27.5M\n",
            "gzip: mnist.pkl already exists; do you wish to overwrite (y or n)? y\n"
          ],
          "name": "stdout"
        }
      ]
    },
    {
      "cell_type": "markdown",
      "metadata": {
        "id": "uitjrnuT6Csx"
      },
      "source": [
        "Теперь загружаем датасет и прописываем импорты:"
      ]
    },
    {
      "cell_type": "code",
      "metadata": {
        "id": "ofLjSeLm6Csx"
      },
      "source": [
        "import pickle\n",
        "import sys\n",
        "import numpy as np\n",
        "import matplotlib.pyplot as plt \n",
        "from matplotlib import gridspec\n",
        "from sklearn.metrics import confusion_matrix\n",
        "from sklearn.datasets import make_classification\n",
        "import random\n",
        "from sklearn.model_selection import train_test_split\n",
        "np.random.seed(0)\n",
        "with open('mnist.pkl','rb') as f:\n",
        "    MNIST = pickle.load(f)"
      ],
      "execution_count": 12,
      "outputs": []
    },
    {
      "cell_type": "code",
      "metadata": {
        "id": "jefal0Rs6Csx"
      },
      "source": [
        "labels = MNIST['Train']['Labels']\n",
        "data = MNIST['Train']['Features']"
      ],
      "execution_count": 13,
      "outputs": []
    },
    {
      "cell_type": "markdown",
      "metadata": {
        "id": "ynNrzlMG6Csx"
      },
      "source": [
        "Смотрим на то, какие данные получились:"
      ]
    },
    {
      "cell_type": "code",
      "metadata": {
        "colab": {
          "base_uri": "https://localhost:8080/"
        },
        "id": "_6SGdtiH6Csy",
        "outputId": "9f8e9d3a-c19c-4a47-b60f-db5f0078d2c5"
      },
      "source": [
        "data.shape"
      ],
      "execution_count": 14,
      "outputs": [
        {
          "output_type": "execute_result",
          "data": {
            "text/plain": [
              "(42000, 784)"
            ]
          },
          "metadata": {
            "tags": []
          },
          "execution_count": 14
        }
      ]
    },
    {
      "cell_type": "markdown",
      "metadata": {
        "id": "Ueq2jtbz6Csy"
      },
      "source": [
        "Используйте Scikit Learn для разбиения данных на обучающую и тестовую выборку, нормализуем выборку\n"
      ]
    },
    {
      "cell_type": "code",
      "metadata": {
        "id": "VmHP_nkD6Csy"
      },
      "source": [
        "x_train, x_test, labels_train, labels_test = train_test_split(data, labels, test_size=0.20)\n",
        "x_test = x_test/255\n",
        "x_train = x_train/255"
      ],
      "execution_count": 15,
      "outputs": []
    },
    {
      "cell_type": "markdown",
      "metadata": {
        "id": "qx_n4gx7QemG"
      },
      "source": [
        "Объявим классы для слоев персептрона:\n",
        "\n",
        "1.   Linear\n",
        "2.   SoftMax\n",
        "3.   CrossEntropyLoss\n",
        "\n",
        "\n",
        "\n",
        "\n"
      ]
    },
    {
      "cell_type": "code",
      "metadata": {
        "id": "_rbXH1M6Qkox"
      },
      "source": [
        "class Linear:\n",
        "    def __init__(self,nin,nout):\n",
        "        self.W = np.random.normal(0, 1.0/np.sqrt(nin), (nout, nin))\n",
        "        self.b = np.zeros((1,nout))\n",
        "        self.dW = np.zeros_like(self.W)\n",
        "        self.db = np.zeros_like(self.b)\n",
        "        \n",
        "    def forward(self, x):\n",
        "        self.x=x\n",
        "        return np.dot(x, self.W.T) + self.b\n",
        "    \n",
        "    def backward(self, dz):\n",
        "        dx = np.dot(dz, self.W)\n",
        "        dW = np.dot(dz.T, self.x)\n",
        "        db = dz.sum(axis=0)\n",
        "        self.dW = dW\n",
        "        self.db = db\n",
        "        return dx\n",
        "    \n",
        "    def update(self,lr):\n",
        "        self.W -= lr*self.dW\n",
        "        self.b -= lr*self.db\n",
        "\n",
        "\n",
        "class Softmax:\n",
        "    def forward(self,z):\n",
        "        self.z = z\n",
        "        zmax = z.max(axis=1,keepdims=True)\n",
        "        expz = np.exp(z-zmax)\n",
        "        Z = expz.sum(axis=1,keepdims=True)\n",
        "        return expz / Z\n",
        "    def backward(self,dp):\n",
        "        p = self.forward(self.z)\n",
        "        pdp = p * dp\n",
        "        return pdp - p * pdp.sum(axis=1, keepdims=True)\n",
        "    \n",
        "class CrossEntropyLoss:\n",
        "    def forward(self,p,y):\n",
        "        self.p = p\n",
        "        self.y = y\n",
        "        p_of_y = p[np.arange(len(y)), y]\n",
        "        log_prob = np.log(p_of_y)\n",
        "        return -log_prob.mean()\n",
        "    def backward(self,loss):\n",
        "        dlog_softmax = np.zeros_like(self.p)\n",
        "        dlog_softmax[np.arange(len(self.y)), self.y] -= 1.0/len(self.y)\n",
        "        return dlog_softmax / self.p\n",
        "        \n",
        "class Tanh:\n",
        "    def forward(self,x):\n",
        "        y = np.tanh(x)\n",
        "        self.y = y\n",
        "        return y\n",
        "    def backward(self,dy):\n",
        "        return (1.0-self.y**2)*dy"
      ],
      "execution_count": 16,
      "outputs": []
    },
    {
      "cell_type": "markdown",
      "metadata": {
        "id": "DWnYhVZAxUTp"
      },
      "source": [
        "Для удобства опишем класс, который позволяет объединять узлы вычислительного графа в единую сеть, и применять функции *forward* и *backward* сразу ко всей сети последовательно:\n",
        "\n"
      ]
    },
    {
      "cell_type": "code",
      "metadata": {
        "id": "ENcOAurexfPB"
      },
      "source": [
        "class Net:\n",
        "    def __init__(self):\n",
        "        self.layers = []\n",
        "    \n",
        "    def add(self,l):\n",
        "        self.layers.append(l)\n",
        "\n",
        "    def addCrossEntropy(self, crossEntropy):\n",
        "        self.crossEntropy = crossEntropy \n",
        "        \n",
        "    def forward(self,x, y):\n",
        "        for layer in self.layers:\n",
        "            x = layer.forward(x)\n",
        "        l = self.crossEntropy.forward(x,y)\n",
        "        return l\n",
        "    \n",
        "    def backward(self,z):\n",
        "        z = self.crossEntropy.backward(z)\n",
        "        for l in self.layers[::-1]:\n",
        "            z = l.backward(z)\n",
        "        return z\n",
        "    \n",
        "    def forward_without_cross(self, x):\n",
        "        for layer in self.layers:\n",
        "            x = layer.forward(x)\n",
        "        return x\n",
        "\n",
        "    def update(self,lr):\n",
        "        for l in self.layers:\n",
        "            if 'update' in l.__dir__():\n",
        "                l.update(lr)\n"
      ],
      "execution_count": 17,
      "outputs": []
    },
    {
      "cell_type": "markdown",
      "metadata": {
        "id": "C3OxSEvNXYJF"
      },
      "source": [
        "Создадим класс, который будет отвечать за обучение нейронной сети. В нем будут методы для обучения нейронной сети, для показа результатов обучения. Так как мы пишем фреймворк, то человек сможет выбрать, нужен ему график или нет, а также загрузить свою нейронную сеть и свою обучающую выборку"
      ]
    },
    {
      "cell_type": "code",
      "metadata": {
        "colab": {
          "base_uri": "https://localhost:8080/",
          "height": 265
        },
        "id": "1f8yUvF8IMMA",
        "outputId": "d73650d1-e41c-46fe-d82d-063a1383eadc"
      },
      "source": [
        "import matplotlib.cm as cm\n",
        "\n",
        "class Analyzer:\n",
        "\n",
        "    def __init__(self):\n",
        "        self.count_confusion = True\n",
        "        self.confusion_pred = []\n",
        "        self.confusion_true = []\n",
        "\n",
        "    def get_loss_acc(self, net, x,y,loss=CrossEntropyLoss(), is_test = False):\n",
        "        p = net.forward_without_cross(x)\n",
        "        l = loss.forward(p,y)\n",
        "        pred = np.argmax(p,axis=1)\n",
        "        acc = (pred==y).mean()\n",
        "        if (is_test == True):\n",
        "            self.confusion_pred = []\n",
        "            self.confusion_true = []\n",
        "            self.confusion_pred+=pred.tolist()\n",
        "            self.confusion_true+=y.tolist()\n",
        "        return l,acc\n",
        "\n",
        "class Teacher:\n",
        "\n",
        "    def __init__(self, n_classes, x_train, labels_train, x_test, labels_test, analyzer):\n",
        "        self.n_classes = n_classes\n",
        "        self.x_train = x_train\n",
        "        self.labels_train = labels_train\n",
        "        self.x_test = x_test\n",
        "        self.labels_test = labels_test\n",
        "        self.analyzer = analyzer\n",
        "\n",
        "    def train_epoch(self, net, train_x, train_labels, loss=CrossEntropyLoss(), batch_size=4, lr=0.1):\n",
        "        for i in range(0,len(train_x),batch_size):\n",
        "            xb = train_x[i:i+batch_size]\n",
        "            yb = train_labels[i:i+batch_size]\n",
        "            l = net.forward(xb, yb)\n",
        "            dx = net.backward(l)\n",
        "            net.update(lr)\n",
        "\n",
        "        # generate countour grid\n",
        "\n",
        "    def plot_training_progress(self, x, y_data, fig, ax):\n",
        "          styles = ['k--', 'g-']\n",
        "          # remove previous plot\n",
        "          while ax.lines:\n",
        "              ax.lines.pop()\n",
        "          # draw updated lines\n",
        "          for i in range(len(y_data)):\n",
        "              ax.plot(x, y_data[i], styles[i])\n",
        "          ax.legend(ax.lines, ['training accuracy', 'validation accuracy'],\n",
        "                loc='upper center', ncol = 2)\n",
        "\n",
        "    def train_and_plot(self, n_epoch, net, loss=CrossEntropyLoss(), batch_size=4, lr=0.1, need_plot = True):\n",
        "        net.addCrossEntropy(loss)\n",
        "        fig, ax = plt.subplots(1, 1)\n",
        "        ax.set_xlim(0, n_epoch + 1)\n",
        "        ax.set_ylim(0,1)\n",
        "        train_acc = np.empty((n_epoch, 3))\n",
        "        train_acc[:] = np.NAN\n",
        "        valid_acc = np.empty((n_epoch, 3))\n",
        "        valid_acc[:] = np.NAN\n",
        "    \n",
        "        for epoch in range(1, n_epoch + 1):\n",
        "\n",
        "            tloss, taccuracy = self.analyzer.get_loss_acc(net, self.x_train,self.labels_train,loss)\n",
        "            train_acc[epoch-1, :] = [epoch, tloss, taccuracy]\n",
        "            vloss, vaccuracy = self.analyzer.get_loss_acc(net, self.x_test, self.labels_test,loss, True)\n",
        "            valid_acc[epoch-1, :] = [epoch, vloss, vaccuracy]\n",
        "        \n",
        "            ax.set_ylim(0, max(max(train_acc[:, 2]), max(valid_acc[:, 2])) * 1.1)\n",
        "            if (need_plot):\n",
        "                self.plot_training_progress(train_acc[:, 0], (train_acc[:, 2],\n",
        "                                                 valid_acc[:, 2]), fig, ax)\n",
        "                fig.canvas.draw()\n",
        "                fig.canvas.flush_events()\n",
        "            self.train_epoch(net, self.x_train,self.labels_train,loss,batch_size,lr)\n",
        "\n",
        "\n",
        "        return train_acc, valid_acc\n",
        "\n",
        "    \n",
        "\n",
        "net = Net()\n",
        "analyzer = Analyzer()\n",
        "teacher = Teacher(n_classes = 10, x_train=x_train, labels_train = labels_train, x_test = x_test, labels_test = labels_test, analyzer = analyzer)\n",
        "net.add(Linear(28*28,10))\n",
        "net.add(Softmax())\n",
        "res = teacher.train_and_plot(30, net, CrossEntropyLoss(), lr = 0.00005, need_plot = True)\n"
      ],
      "execution_count": 18,
      "outputs": [
        {
          "output_type": "display_data",
          "data": {
            "image/png": "[encoded data removed]",
            "text/plain": [
              "<Figure size 432x288 with 1 Axes>"
            ]
          },
          "metadata": {
            "tags": [],
            "needs_background": "light"
          }
        }
      ]
    },
    {
      "cell_type": "markdown",
      "metadata": {
        "id": "vuVpQ9UXRUf7"
      },
      "source": [
        "Теперь выведем Confusion Matrix с помощью SKLearn, с помощью нее можно увидеть частоту ложных и верных предсказаний по классам"
      ]
    },
    {
      "cell_type": "code",
      "metadata": {
        "colab": {
          "base_uri": "https://localhost:8080/"
        },
        "id": "JEbGsLXHRfdw",
        "outputId": "f698b2c3-79b2-47d8-c62c-8e39d384134c"
      },
      "source": [
        "analyzer.get_loss_acc(net, x_test, labels_test,net.crossEntropy, True)\n",
        "print(confusion_matrix(analyzer.confusion_true, analyzer.confusion_pred))"
      ],
      "execution_count": 19,
      "outputs": [
        {
          "output_type": "stream",
          "text": [
            "[[764   0   3   3   3   8  22   1   8   1]\n",
            " [  0 926   7   1   0   8   2   0  16   1]\n",
            " [ 13  16 716  25  20   1  24  14  26   5]\n",
            " [ 10   7  23 736   1  30  11  15  21   9]\n",
            " [  1   8   3   1 728   0  13   5   9  59]\n",
            " [ 21  20   3  50  23 560  12   9  38  20]\n",
            " [  7   6  12   1  10  13 784   0   8   0]\n",
            " [  6  25  19   1  16   1   1 796   4  30]\n",
            " [  5  19   5  42   8  27  11   6 629  16]\n",
            " [ 15  12  11  13  41   5   1  40  15 659]]\n"
          ],
          "name": "stdout"
        }
      ]
    },
    {
      "cell_type": "markdown",
      "metadata": {
        "id": "1_DmOxsT_x0n"
      },
      "source": [
        "Теперь попробуем сделать анализ обучения для набора датасета FashionMnist, который считается более новым. Для этого загрузим данные, создадим нейронную сеть и построим график\n",
        "\n"
      ]
    },
    {
      "cell_type": "code",
      "metadata": {
        "colab": {
          "base_uri": "https://localhost:8080/",
          "height": 401
        },
        "id": "WJbQnaoND4BX",
        "outputId": "4e44a4b2-5afc-4e04-b2ec-18c05fcf8151"
      },
      "source": [
        "import tensorflow as tf\n",
        "import numpy as np\n",
        "import os\n",
        "\n",
        "import distutils\n",
        "\n",
        "(x_fashion_train, y_fashion_train), (x_fashion_test, y_fashion__test) = tf.keras.datasets.fashion_mnist.load_data()\n",
        "x_fashion_train = x_fashion_train/ 255.0\n",
        "x_fashion_test = x_fashion_test/ 255.0\n",
        "num_pixels = 784\n",
        "x_fashion_train = x_fashion_train.reshape(x_fashion_train.shape[0],\n",
        "                         num_pixels)\n",
        "x_fashion_test = x_fashion_test.reshape(x_fashion_test.shape[0],\n",
        "                         num_pixels)\n",
        "class_names = ['T-shirt/top', 'Trouser', 'Pullover', 'Dress', 'Coat',\n",
        "               'Sandal', 'Shirt', 'Sneaker', 'Bag', 'Ankle boot']\n",
        "\n",
        "\n",
        "net = Net()\n",
        "net.add(Linear(28*28,10))\n",
        "net.add(Softmax())\n",
        "analyzer = Analyzer()\n",
        "teacher = Teacher(n_classes = 10, x_train=x_fashion_train, labels_train = y_fashion_train, x_test = x_fashion_test, labels_test = y_fashion__test, analyzer = analyzer)\n",
        "res = teacher.train_and_plot(30, net, CrossEntropyLoss(), lr = 0.00005, need_plot = True)\n"
      ],
      "execution_count": 20,
      "outputs": [
        {
          "output_type": "stream",
          "text": [
            "Downloading data from https://storage.googleapis.com/tensorflow/tf-keras-datasets/train-labels-idx1-ubyte.gz\n",
            "32768/29515 [=================================] - 0s 0us/step\n",
            "Downloading data from https://storage.googleapis.com/tensorflow/tf-keras-datasets/train-images-idx3-ubyte.gz\n",
            "26427392/26421880 [==============================] - 0s 0us/step\n",
            "Downloading data from https://storage.googleapis.com/tensorflow/tf-keras-datasets/t10k-labels-idx1-ubyte.gz\n",
            "8192/5148 [===============================================] - 0s 0us/step\n",
            "Downloading data from https://storage.googleapis.com/tensorflow/tf-keras-datasets/t10k-images-idx3-ubyte.gz\n",
            "4423680/4422102 [==============================] - 0s 0us/step\n"
          ],
          "name": "stdout"
        },
        {
          "output_type": "display_data",
          "data": {
            "image/png": "[encoded data removed]",
            "text/plain": [
              "<Figure size 432x288 with 1 Axes>"
            ]
          },
          "metadata": {
            "tags": [],
            "needs_background": "light"
          }
        }
      ]
    },
    {
      "cell_type": "markdown",
      "metadata": {
        "id": "4LeUt6TgVuTT"
      },
      "source": [
        "Для начала загрузим данные и покажем, что представляет из себя выборка FashionMnist"
      ]
    },
    {
      "cell_type": "code",
      "metadata": {
        "colab": {
          "base_uri": "https://localhost:8080/",
          "height": 589
        },
        "id": "0Ng2wMQjV05w",
        "outputId": "e09e0a10-568c-425f-dc12-cf4ac9f51b8f"
      },
      "source": [
        "import tensorflow as tf\n",
        "import numpy as np\n",
        "import os\n",
        "\n",
        "import distutils\n",
        "\n",
        "(x_fashion_train, y_fashion_train), (x_fashion_test, y_fashion__test) = tf.keras.datasets.fashion_mnist.load_data()\n",
        "x_fashion_train = x_fashion_train/ 255.0\n",
        "x_fashion_test = x_fashion_test/ 255.0\n",
        "num_pixels = 784\n",
        "\n",
        "class_names = ['T-shirt/top', 'Trouser', 'Pullover', 'Dress', 'Coat',\n",
        "               'Sandal', 'Shirt', 'Sneaker', 'Bag', 'Ankle boot']\n",
        "               \n",
        "plt.figure(figsize=(10,10))\n",
        "for i in range(25):\n",
        "    plt.subplot(5,5,i+1)\n",
        "    plt.xticks([])\n",
        "    plt.yticks([])\n",
        "    plt.grid(False)\n",
        "    plt.imshow(x_fashion_train[i], cmap=plt.cm.binary)\n",
        "    plt.xlabel(class_names[y_fashion_train[i]])\n",
        "plt.show()"
      ],
      "execution_count": 21,
      "outputs": [
        {
          "output_type": "display_data",
          "data": {
            "image/png": "[encoded data removed]",
            "text/plain": [
              "<Figure size 720x720 with 25 Axes>"
            ]
          },
          "metadata": {
            "tags": []
          }
        }
      ]
    },
    {
      "cell_type": "markdown",
      "metadata": {
        "id": "cdGy2FIfWIBG"
      },
      "source": [
        "Как мы видим, размер картинок не изменился - это все те же черно-белые изображения, но теперь тут разные элементы одежды. Для начала преобразуем матрицы пикселей в вектора, затем создадим нейронную сеть и обучим ее на тестовой выборке. Построим график обучения"
      ]
    },
    {
      "cell_type": "code",
      "metadata": {
        "colab": {
          "base_uri": "https://localhost:8080/",
          "height": 265
        },
        "id": "RKjLz-pYWcSy",
        "outputId": "b11997bf-3b1f-4815-f59e-299795120b60"
      },
      "source": [
        "num_pixels = 784\n",
        "x_fashion_train = x_fashion_train.reshape(x_fashion_train.shape[0],\n",
        "                         num_pixels)\n",
        "x_fashion_test = x_fashion_test.reshape(x_fashion_test.shape[0],\n",
        "                         num_pixels)\n",
        "net = Net()\n",
        "net.add(Linear(28*28,10))\n",
        "net.add(Softmax())\n",
        "analyzer = Analyzer()\n",
        "teacher = Teacher(n_classes = 10, x_train=x_fashion_train, labels_train = y_fashion_train, x_test = x_fashion_test, labels_test = y_fashion__test, analyzer = analyzer)\n",
        "res = teacher.train_and_plot(30, net, CrossEntropyLoss(), lr = 0.00005, need_plot = True)"
      ],
      "execution_count": 22,
      "outputs": [
        {
          "output_type": "display_data",
          "data": {
            "image/png": "[encoded data removed]",
            "text/plain": [
              "<Figure size 432x288 with 1 Axes>"
            ]
          },
          "metadata": {
            "tags": [],
            "needs_background": "light"
          }
        }
      ]
    },
    {
      "cell_type": "markdown",
      "metadata": {
        "id": "ZnAow_3DUSaf"
      },
      "source": [
        "Мы видим, что для этой выборки validation accuracy не такая высокая, как для обычной MNIST. В MNIST оно больше 85 процентов, тут же держится около 80. Также и для этой выборки выведем Confusion Matrix"
      ]
    },
    {
      "cell_type": "code",
      "metadata": {
        "colab": {
          "base_uri": "https://localhost:8080/"
        },
        "id": "EB6Un_DFUYej",
        "outputId": "0cc858d0-0d0b-4a18-e10a-ce93902b7b26"
      },
      "source": [
        "analyzer.get_loss_acc(net, x_fashion_test, y_fashion__test,net.crossEntropy, True)\n",
        "print(confusion_matrix(analyzer.confusion_true, analyzer.confusion_pred))"
      ],
      "execution_count": 23,
      "outputs": [
        {
          "output_type": "stream",
          "text": [
            "[[794   5  14  79   5   1  76   0  25   1]\n",
            " [  4 922  15  46   9   0   2   0   2   0]\n",
            " [ 25   0 658  10 202   1  86   0  18   0]\n",
            " [ 35  15   9 852  33   1  49   0   6   0]\n",
            " [  0   3 101  44 772   0  72   0   8   0]\n",
            " [  1   0   0   3   0 748   0 147   9  92]\n",
            " [197   2 135  48 154   1 423   0  40   0]\n",
            " [  0   0   0   0   0  27   0 890   0  83]\n",
            " [  2   1  13  15   5   4  16  11 932   1]\n",
            " [  0   0   0   0   0  10   0  55   1 934]]\n"
          ],
          "name": "stdout"
        }
      ]
    },
    {
      "cell_type": "markdown",
      "metadata": {
        "id": "cxtFklLGXHTj"
      },
      "source": [
        "В данной лабораторной работе я познакомилась с базовой архитектурой многослойного персептрона, математическим аппаратом, на котором работает нейронная сеть. При этом, каждый раз писать свою реализацию нейронной сети не имеет смысла, потому что это может быть затратно и уже есть готовые реализации нейросетей"
      ]
    }
  ]
}
